{
 "cells": [
  {
   "cell_type": "code",
   "execution_count": null,
   "metadata": {
    "collapsed": false
   },
   "outputs": [],
   "source": [
    "import lxml\n",
    "from bs4 import BeautifulSoup\n",
    "import urllib2\n",
    "import requests\n",
    "import json\n",
    "import csv\n",
    "import time\n",
    "import random\n",
    "\n",
    "#old csv file content\n",
    "tomslee = []\n",
    "#room id list read from csv\n",
    "idList = []\n",
    "#broken list\n",
    "broken = []\n",
    "\n",
    "#search url\n",
    "start = 'https://api.airbnb.com/v2/listings/'\n",
    "end = '?client_id=3092nxybyb0otqw18e8nh5nty&_format=v1_legacy_for_p3'\n",
    "oAuth = 'X-Airbnb-OAuth-Token'\n",
    "token = \"5nrstjf9mnyzbbqq6e7mk1o8z\""
   ]
  },
  {
   "cell_type": "code",
   "execution_count": null,
   "metadata": {
    "collapsed": false
   },
   "outputs": [],
   "source": [
    "#getting csv file and read all of the room ids\n",
    "csvfile = open('newyork.csv', 'rb')\n",
    "ny = csv.reader(csvfile, dialect='excel')\n",
    "for row in ny:\n",
    "    tomslee.append(row)\n",
    "    idList.append(row[0])\n",
    "idList = idList[1:]\n",
    "tomslee = tomslee[1:]\n",
    "csvfile.close()"
   ]
  },
  {
   "cell_type": "code",
   "execution_count": null,
   "metadata": {
    "collapsed": false
   },
   "outputs": [],
   "source": [
    "# Main loop for crawling\n",
    "# storing json files for each listID in the range of ini and fin, inclusive\n",
    "# the result is stored at curdir/data/[listID].json\n",
    "\n",
    "ini = 21\n",
    "fin = 30\n",
    "for i in xrange(ini,fin+1):\n",
    "    print(i)\n",
    "    listID = idList[i]\n",
    "    try:\n",
    "        request = requests.get(start+listID+end, headers={oAuth:token})\n",
    "        result = request.json()['listing']\n",
    "        with open('data/'+listID+'.json', 'w') as fp:\n",
    "            json.dump(result, fp, sort_keys=True, indent=4)\n",
    "    except(KeyError):\n",
    "        print(\"listing \"+listID+\" is broken\")\n",
    "        broken.append(listID)\n",
    "    # sleeping as we are civilized spiders\n",
    "    # max sleep time is 10+ 0-5s\n",
    "    duration = 10+random.random()*5\n",
    "    print('sleeping.......for '+str(duration)+'s')\n",
    "    time.sleep(duration)\n",
    "print(\"all finished from idList's \"+str(ini)+' to '+str(fin))"
   ]
  },
  {
   "cell_type": "code",
   "execution_count": null,
   "metadata": {
    "collapsed": false,
    "scrolled": true
   },
   "outputs": [],
   "source": [
    "#get a new token\n",
    "def newToken(username, password):\n",
    "    request = requests.post('https://api.airbnb.com/v1/authorize', \n",
    "                            data={'password':password, 'username':username,\n",
    "                                 'client_id':'3092nxybyb0otqw18e8nh5nty'})\n",
    "    authDict = request.json()\n",
    "    tok = authDict['access_token']\n",
    "    return tok"
   ]
  },
  {
   "cell_type": "code",
   "execution_count": null,
   "metadata": {
    "collapsed": false
   },
   "outputs": [],
   "source": [
    "#sample of a request result\n",
    "token = newToken(username, password)\n",
    "request = requests.get(start+idList[7]+end, headers={oAuth:TOKEN})"
   ]
  },
  {
   "cell_type": "code",
   "execution_count": null,
   "metadata": {
    "collapsed": false
   },
   "outputs": [],
   "source": [
    "#the keys that's stored in the json\n",
    "for i in request.json()['listing']:\n",
    "    print(i)"
   ]
  },
  {
   "cell_type": "code",
   "execution_count": null,
   "metadata": {
    "collapsed": true
   },
   "outputs": [],
   "source": []
  }
 ],
 "metadata": {
  "anaconda-cloud": {},
  "kernelspec": {
   "display_name": "Python [default]",
   "language": "python",
   "name": "python2"
  },
  "language_info": {
   "codemirror_mode": {
    "name": "ipython",
    "version": 2
   },
   "file_extension": ".py",
   "mimetype": "text/x-python",
   "name": "python",
   "nbconvert_exporter": "python",
   "pygments_lexer": "ipython2",
   "version": "2.7.12"
  }
 },
 "nbformat": 4,
 "nbformat_minor": 1
}
